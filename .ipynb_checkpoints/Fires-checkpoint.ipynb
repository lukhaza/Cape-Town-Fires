{
 "cells": [
  {
   "cell_type": "markdown",
   "metadata": {},
   "source": [
    "## Importing libraries"
   ]
  },
  {
   "cell_type": "code",
   "execution_count": 2,
   "metadata": {},
   "outputs": [],
   "source": [
    "import pandas as pd\n",
    "import ezodf\n",
    "from pyexcel_ods import get_data\n",
    "import itertools\n",
    "import matplotlib.pyplot as plt\n",
    "import seaborn as sns"
   ]
  },
  {
   "cell_type": "code",
   "execution_count": 3,
   "metadata": {},
   "outputs": [],
   "source": [
    "#data = get_data('data/Fire incidence Jan 2009 - Jan 2016.ods')"
   ]
  },
  {
   "cell_type": "code",
   "execution_count": 4,
   "metadata": {},
   "outputs": [
    {
     "name": "stderr",
     "output_type": "stream",
     "text": [
      "C:\\ProgramData\\Anaconda3\\lib\\site-packages\\IPython\\core\\interactiveshell.py:2785: DtypeWarning: Columns (15,32,33,40,43,44,45,46,47,48,49,52,53,60,63,64,66,67,69,70,71,72,73,74,77,78,79,80,81,82,86,88,89,90,91,92,93,94,95,96,97,98,99,100,101,102,103,104,105,106,107,108,109,111) have mixed types. Specify dtype option on import or set low_memory=False.\n",
      "  interactivity=interactivity, compiler=compiler, result=result)\n"
     ]
    },
    {
     "name": "stdout",
     "output_type": "stream",
     "text": [
      "size of data:  (66715, 137)\n"
     ]
    },
    {
     "data": {
      "text/html": [
       "<div>\n",
       "<style scoped>\n",
       "    .dataframe tbody tr th:only-of-type {\n",
       "        vertical-align: middle;\n",
       "    }\n",
       "\n",
       "    .dataframe tbody tr th {\n",
       "        vertical-align: top;\n",
       "    }\n",
       "\n",
       "    .dataframe thead th {\n",
       "        text-align: right;\n",
       "    }\n",
       "</style>\n",
       "<table border=\"1\" class=\"dataframe\">\n",
       "  <thead>\n",
       "    <tr style=\"text-align: right;\">\n",
       "      <th></th>\n",
       "      <th>Incident number</th>\n",
       "      <th>Incident category</th>\n",
       "      <th>Incident sub-category</th>\n",
       "      <th>Year Month (YYMM)</th>\n",
       "      <th>Date of IncidentD</th>\n",
       "      <th>Time of IncidentMT</th>\n",
       "      <th>Method Incident Notified</th>\n",
       "      <th>Callers Statement</th>\n",
       "      <th>Location</th>\n",
       "      <th>Complex</th>\n",
       "      <th>...</th>\n",
       "      <th>Container use</th>\n",
       "      <th>Special container features</th>\n",
       "      <th>Container Type</th>\n",
       "      <th>Container material</th>\n",
       "      <th>Container capacity</th>\n",
       "      <th>Container Unit of measure</th>\n",
       "      <th>Transport Type</th>\n",
       "      <th>NESD update control</th>\n",
       "      <th>Unnamed: 135</th>\n",
       "      <th>Unnamed: 136</th>\n",
       "    </tr>\n",
       "  </thead>\n",
       "  <tbody>\n",
       "    <tr>\n",
       "      <th>0</th>\n",
       "      <td>F0901/0001</td>\n",
       "      <td>Other</td>\n",
       "      <td>Rubbish/Grass/Bush</td>\n",
       "      <td>901.0</td>\n",
       "      <td>01/01/2009</td>\n",
       "      <td>00:03|00:04|00:04|00:04</td>\n",
       "      <td>11|Telephone direct|Telephone|T</td>\n",
       "      <td>Vegetation Alight</td>\n",
       "      <td>NaN</td>\n",
       "      <td>NaN</td>\n",
       "      <td>...</td>\n",
       "      <td>NaN</td>\n",
       "      <td>NaN</td>\n",
       "      <td>NaN</td>\n",
       "      <td>NaN</td>\n",
       "      <td>NaN</td>\n",
       "      <td>NaN</td>\n",
       "      <td>NaN</td>\n",
       "      <td>1.294044e+09</td>\n",
       "      <td>NaN</td>\n",
       "      <td>NaN</td>\n",
       "    </tr>\n",
       "    <tr>\n",
       "      <th>1</th>\n",
       "      <td>F0901/0002</td>\n",
       "      <td>Other</td>\n",
       "      <td>Rubbish/Grass/Bush</td>\n",
       "      <td>901.0</td>\n",
       "      <td>01/01/2009</td>\n",
       "      <td>00:07|00:08|00:08|00:08</td>\n",
       "      <td>11|Telephone direct|Telephone|T</td>\n",
       "      <td>Reeds Alight</td>\n",
       "      <td>Sandvlei Wetland Reserve</td>\n",
       "      <td>NaN</td>\n",
       "      <td>...</td>\n",
       "      <td>NaN</td>\n",
       "      <td>NaN</td>\n",
       "      <td>NaN</td>\n",
       "      <td>NaN</td>\n",
       "      <td>NaN</td>\n",
       "      <td>NaN</td>\n",
       "      <td>NaN</td>\n",
       "      <td>1.384005e+09</td>\n",
       "      <td>NaN</td>\n",
       "      <td>NaN</td>\n",
       "    </tr>\n",
       "    <tr>\n",
       "      <th>2</th>\n",
       "      <td>F0901/0004</td>\n",
       "      <td>Other</td>\n",
       "      <td>Rubbish/Grass/Bush</td>\n",
       "      <td>901.0</td>\n",
       "      <td>01/01/2009</td>\n",
       "      <td>00:16|00:17|00:17|00:17</td>\n",
       "      <td>11|Telephone direct|Telephone|T</td>\n",
       "      <td>Vegetation Alight</td>\n",
       "      <td>Close To The Indoor Centre</td>\n",
       "      <td>Sportsfield</td>\n",
       "      <td>...</td>\n",
       "      <td>NaN</td>\n",
       "      <td>NaN</td>\n",
       "      <td>NaN</td>\n",
       "      <td>NaN</td>\n",
       "      <td>NaN</td>\n",
       "      <td>NaN</td>\n",
       "      <td>NaN</td>\n",
       "      <td>1.353403e+09</td>\n",
       "      <td>NaN</td>\n",
       "      <td>NaN</td>\n",
       "    </tr>\n",
       "    <tr>\n",
       "      <th>3</th>\n",
       "      <td>F0901/0006</td>\n",
       "      <td>Other</td>\n",
       "      <td>Rubbish/Grass/Bush</td>\n",
       "      <td>901.0</td>\n",
       "      <td>01/01/2009</td>\n",
       "      <td>00:20|00:21|00:21|00:21</td>\n",
       "      <td>11|Telephone direct|Telephone|T</td>\n",
       "      <td>Vegetation Alight</td>\n",
       "      <td>NaN</td>\n",
       "      <td>Protea Park</td>\n",
       "      <td>...</td>\n",
       "      <td>NaN</td>\n",
       "      <td>NaN</td>\n",
       "      <td>NaN</td>\n",
       "      <td>NaN</td>\n",
       "      <td>NaN</td>\n",
       "      <td>NaN</td>\n",
       "      <td>NaN</td>\n",
       "      <td>1.294044e+09</td>\n",
       "      <td>NaN</td>\n",
       "      <td>NaN</td>\n",
       "    </tr>\n",
       "    <tr>\n",
       "      <th>4</th>\n",
       "      <td>F0901/0007</td>\n",
       "      <td>Other</td>\n",
       "      <td>Rubbish/Grass/Bush</td>\n",
       "      <td>901.0</td>\n",
       "      <td>01/01/2009</td>\n",
       "      <td>00:22|00:22|00:22|00:22</td>\n",
       "      <td>11|Telephone direct|Telephone|T</td>\n",
       "      <td>Tyres Alight</td>\n",
       "      <td>NaN</td>\n",
       "      <td>NaN</td>\n",
       "      <td>...</td>\n",
       "      <td>NaN</td>\n",
       "      <td>NaN</td>\n",
       "      <td>NaN</td>\n",
       "      <td>NaN</td>\n",
       "      <td>NaN</td>\n",
       "      <td>NaN</td>\n",
       "      <td>NaN</td>\n",
       "      <td>1.467973e+09</td>\n",
       "      <td>NaN</td>\n",
       "      <td>NaN</td>\n",
       "    </tr>\n",
       "  </tbody>\n",
       "</table>\n",
       "<p>5 rows × 137 columns</p>\n",
       "</div>"
      ],
      "text/plain": [
       "  Incident number  Incident category Incident sub-category  Year Month (YYMM)  \\\n",
       "0       F0901/0001             Other    Rubbish/Grass/Bush              901.0   \n",
       "1       F0901/0002             Other    Rubbish/Grass/Bush              901.0   \n",
       "2       F0901/0004             Other    Rubbish/Grass/Bush              901.0   \n",
       "3       F0901/0006             Other    Rubbish/Grass/Bush              901.0   \n",
       "4       F0901/0007             Other    Rubbish/Grass/Bush              901.0   \n",
       "\n",
       "  Date of IncidentD       Time of IncidentMT         Method Incident Notified  \\\n",
       "0        01/01/2009  00:03|00:04|00:04|00:04  11|Telephone direct|Telephone|T   \n",
       "1        01/01/2009  00:07|00:08|00:08|00:08  11|Telephone direct|Telephone|T   \n",
       "2        01/01/2009  00:16|00:17|00:17|00:17  11|Telephone direct|Telephone|T   \n",
       "3        01/01/2009  00:20|00:21|00:21|00:21  11|Telephone direct|Telephone|T   \n",
       "4        01/01/2009  00:22|00:22|00:22|00:22  11|Telephone direct|Telephone|T   \n",
       "\n",
       "   Callers Statement                    Location     Complex      ...       \\\n",
       "0  Vegetation Alight                         NaN          NaN     ...        \n",
       "1       Reeds Alight    Sandvlei Wetland Reserve          NaN     ...        \n",
       "2  Vegetation Alight  Close To The Indoor Centre  Sportsfield     ...        \n",
       "3  Vegetation Alight                         NaN  Protea Park     ...        \n",
       "4       Tyres Alight                         NaN          NaN     ...        \n",
       "\n",
       "  Container use Special container features Container Type Container material  \\\n",
       "0           NaN                        NaN            NaN                NaN   \n",
       "1           NaN                        NaN            NaN                NaN   \n",
       "2           NaN                        NaN            NaN                NaN   \n",
       "3           NaN                        NaN            NaN                NaN   \n",
       "4           NaN                        NaN            NaN                NaN   \n",
       "\n",
       "  Container capacity Container Unit of measure Transport Type  \\\n",
       "0                NaN                       NaN            NaN   \n",
       "1                NaN                       NaN            NaN   \n",
       "2                NaN                       NaN            NaN   \n",
       "3                NaN                       NaN            NaN   \n",
       "4                NaN                       NaN            NaN   \n",
       "\n",
       "  NESD update control  Unnamed: 135 Unnamed: 136  \n",
       "0         1.294044e+09          NaN          NaN  \n",
       "1         1.384005e+09          NaN          NaN  \n",
       "2         1.353403e+09          NaN          NaN  \n",
       "3         1.294044e+09          NaN          NaN  \n",
       "4         1.467973e+09          NaN          NaN  \n",
       "\n",
       "[5 rows x 137 columns]"
      ]
     },
     "execution_count": 4,
     "metadata": {},
     "output_type": "execute_result"
    }
   ],
   "source": [
    "data = pd.read_csv('data/Fire incidence Jan 2009 - Jan 2016.csv')\n",
    "print('size of data: ',data.shape)\n",
    "data.head()"
   ]
  },
  {
   "cell_type": "code",
   "execution_count": 5,
   "metadata": {},
   "outputs": [
    {
     "data": {
      "text/plain": [
       "<matplotlib.axes._subplots.AxesSubplot at 0x2106d6ac780>"
      ]
     },
     "execution_count": 5,
     "metadata": {},
     "output_type": "execute_result"
    },
    {
     "data": {
      "image/png": "[encoded data removed]",
      "text/plain": [
       "<Figure size 432x288 with 1 Axes>"
      ]
     },
     "metadata": {},
     "output_type": "display_data"
    }
   ],
   "source": [
    "data.columns = data.columns.str.strip()\n",
    "data['Incident category'].value_counts().plot(kind='bar',title='Incident category')"
   ]
  },
  {
   "cell_type": "markdown",
   "metadata": {},
   "source": [
    "Ohk, so the plot of 'Incident category' shows us that there are only 2 catagories, \"Other\" and \"Other Calls\". This column does not provide useful information."
   ]
  },
  {
   "cell_type": "code",
   "execution_count": 6,
   "metadata": {},
   "outputs": [
    {
     "data": {
      "text/plain": [
       "<matplotlib.axes._subplots.AxesSubplot at 0x2105ca6ae80>"
      ]
     },
     "execution_count": 6,
     "metadata": {},
     "output_type": "execute_result"
    },
    {
     "data": {
      "image/png": "[encoded data removed]",
      "text/plain": [
       "<Figure size 432x288 with 1 Axes>"
      ]
     },
     "metadata": {},
     "output_type": "display_data"
    }
   ],
   "source": [
    "data['Incident sub-category'].value_counts().plot(kind='bar',title='Incident sub-category')"
   ]
  },
  {
   "cell_type": "code",
   "execution_count": 7,
   "metadata": {},
   "outputs": [
    {
     "data": {
      "text/plain": [
       "<matplotlib.axes._subplots.AxesSubplot at 0x2105cb14c50>"
      ]
     },
     "execution_count": 7,
     "metadata": {},
     "output_type": "execute_result"
    },
    {
     "data": {
      "image/png": "[encoded data removed]",
      "text/plain": [
       "<Figure size 432x288 with 1 Axes>"
      ]
     },
     "metadata": {},
     "output_type": "display_data"
    }
   ],
   "source": [
    "#data['Callers Statement'].value_counts().plot(kind='bar',title='Callers Statement')\n",
    "#data.value_counts().sort().plot(kind='bar',title='Callers Statement')\n",
    "data['Callers Statement'].value_counts().sort_values(ascending = False).head().plot(kind='bar',title='Callers Statement')"
   ]
  },
  {
   "cell_type": "markdown",
   "metadata": {},
   "source": [
    "Nice, the caller statements show that the biggest cause for calls are Vegitation fires, next we would plot to visualize the location of these fires."
   ]
  },
  {
   "cell_type": "code",
   "execution_count": 8,
   "metadata": {},
   "outputs": [
    {
     "data": {
      "text/plain": [
       "<matplotlib.axes._subplots.AxesSubplot at 0x2105cb7c940>"
      ]
     },
     "execution_count": 8,
     "metadata": {},
     "output_type": "execute_result"
    },
    {
     "data": {
      "image/png": "[encoded data removed]",
      "text/plain": [
       "<Figure size 432x288 with 1 Axes>"
      ]
     },
     "metadata": {},
     "output_type": "display_data"
    }
   ],
   "source": [
    "data['Location'].value_counts().sort_values(ascending = False).head().plot(kind='bar',title='Location')"
   ]
  },
  {
   "cell_type": "code",
   "execution_count": null,
   "metadata": {},
   "outputs": [],
   "source": []
  }
 ],
 "metadata": {
  "kernelspec": {
   "display_name": "Python 3",
   "language": "python",
   "name": "python3"
  },
  "language_info": {
   "codemirror_mode": {
    "name": "ipython",
    "version": 3
   },
   "file_extension": ".py",
   "mimetype": "text/x-python",
   "name": "python",
   "nbconvert_exporter": "python",
   "pygments_lexer": "ipython3",
   "version": "3.6.6"
  }
 },
 "nbformat": 4,
 "nbformat_minor": 2
}
