{
 "cells": [
  {
   "cell_type": "markdown",
   "metadata": {},
   "source": [
    "importing libraries"
   ]
  },
  {
   "cell_type": "code",
   "execution_count": 154,
   "metadata": {},
   "outputs": [],
   "source": [
    "import pandas as pd\n",
    "import ezodf\n",
    "from pyexcel_ods import get_data\n",
    "import itertools\n",
    "import matplotlib.pyplot as plt\n",
    "import seaborn as sns"
   ]
  },
  {
   "cell_type": "code",
   "execution_count": 163,
   "metadata": {},
   "outputs": [],
   "source": [
    "data = get_data('data/Fire incidence Jan 2009 - Jan 2016.ods')"
   ]
  },
  {
   "cell_type": "code",
   "execution_count": 162,
   "metadata": {},
   "outputs": [
    {
     "data": {
      "text/html": [
       "<div>\n",
       "<style scoped>\n",
       "    .dataframe tbody tr th:only-of-type {\n",
       "        vertical-align: middle;\n",
       "    }\n",
       "\n",
       "    .dataframe tbody tr th {\n",
       "        vertical-align: top;\n",
       "    }\n",
       "\n",
       "    .dataframe thead th {\n",
       "        text-align: right;\n",
       "    }\n",
       "</style>\n",
       "<table border=\"1\" class=\"dataframe\">\n",
       "  <thead>\n",
       "    <tr style=\"text-align: right;\">\n",
       "      <th></th>\n",
       "      <th>Incident number</th>\n",
       "      <th>Incident category</th>\n",
       "      <th>Incident sub-category</th>\n",
       "      <th>Year Month (YYMM)</th>\n",
       "      <th>Date of IncidentD</th>\n",
       "      <th>Time of IncidentMT</th>\n",
       "      <th>Method Incident Notified</th>\n",
       "      <th>Callers Statement</th>\n",
       "      <th>Location</th>\n",
       "      <th>Complex</th>\n",
       "      <th>...</th>\n",
       "      <th>Released Unit of Measure</th>\n",
       "      <th>Suspected contamination</th>\n",
       "      <th>Container use</th>\n",
       "      <th>Special container features</th>\n",
       "      <th>Container Type</th>\n",
       "      <th>Container material</th>\n",
       "      <th>Container capacity</th>\n",
       "      <th>Container Unit of measure</th>\n",
       "      <th>Transport Type</th>\n",
       "      <th>NESD update control</th>\n",
       "    </tr>\n",
       "  </thead>\n",
       "  <tbody>\n",
       "    <tr>\n",
       "      <th>0</th>\n",
       "      <td>F1604/0100</td>\n",
       "      <td>Other</td>\n",
       "      <td>Rubbish/Grass/Bush</td>\n",
       "      <td>1604.0</td>\n",
       "      <td>2016-04-02</td>\n",
       "      <td>18:58|19:00|19:00|19:00</td>\n",
       "      <td>11|Telephone direct|Telephone|T</td>\n",
       "      <td>Smoke Issuing</td>\n",
       "      <td></td>\n",
       "      <td></td>\n",
       "      <td>...</td>\n",
       "      <td>None</td>\n",
       "      <td>None</td>\n",
       "      <td>None</td>\n",
       "      <td>None</td>\n",
       "      <td>None</td>\n",
       "      <td>None</td>\n",
       "      <td>None</td>\n",
       "      <td>None</td>\n",
       "      <td>None</td>\n",
       "      <td>NaN</td>\n",
       "    </tr>\n",
       "    <tr>\n",
       "      <th>1</th>\n",
       "      <td>F1604/1003</td>\n",
       "      <td>Other</td>\n",
       "      <td>Miscellaneous</td>\n",
       "      <td>1604.0</td>\n",
       "      <td>2016-04-17</td>\n",
       "      <td>03:39|03:41|03:41|03:41</td>\n",
       "      <td>11|Telephone direct|Telephone|T</td>\n",
       "      <td>Electrical Box Alight</td>\n",
       "      <td>In Front Of Uwc</td>\n",
       "      <td></td>\n",
       "      <td>...</td>\n",
       "      <td></td>\n",
       "      <td></td>\n",
       "      <td></td>\n",
       "      <td></td>\n",
       "      <td></td>\n",
       "      <td></td>\n",
       "      <td></td>\n",
       "      <td></td>\n",
       "      <td></td>\n",
       "      <td>1.524125e+09</td>\n",
       "    </tr>\n",
       "    <tr>\n",
       "      <th>2</th>\n",
       "      <td>F1604/1007</td>\n",
       "      <td>Other</td>\n",
       "      <td>Miscellaneous</td>\n",
       "      <td>1604.0</td>\n",
       "      <td>2016-04-17</td>\n",
       "      <td>06:21|06:22|06:22|06:22</td>\n",
       "      <td>11|Telephone direct|Telephone|T</td>\n",
       "      <td>Container Alight</td>\n",
       "      <td></td>\n",
       "      <td></td>\n",
       "      <td>...</td>\n",
       "      <td></td>\n",
       "      <td></td>\n",
       "      <td></td>\n",
       "      <td></td>\n",
       "      <td></td>\n",
       "      <td></td>\n",
       "      <td></td>\n",
       "      <td></td>\n",
       "      <td></td>\n",
       "      <td>1.524522e+09</td>\n",
       "    </tr>\n",
       "    <tr>\n",
       "      <th>3</th>\n",
       "      <td>F1604/1008</td>\n",
       "      <td>Other</td>\n",
       "      <td>Rubbish/Grass/Bush</td>\n",
       "      <td>1604.0</td>\n",
       "      <td>2016-04-17</td>\n",
       "      <td>06:31|06:32|06:32|06:32</td>\n",
       "      <td>11|Telephone direct|Telephone|T</td>\n",
       "      <td>Flames Visible</td>\n",
       "      <td>Next To Old Excess Road To N2 Above High</td>\n",
       "      <td></td>\n",
       "      <td>...</td>\n",
       "      <td></td>\n",
       "      <td></td>\n",
       "      <td></td>\n",
       "      <td></td>\n",
       "      <td></td>\n",
       "      <td></td>\n",
       "      <td></td>\n",
       "      <td></td>\n",
       "      <td></td>\n",
       "      <td>1.524501e+09</td>\n",
       "    </tr>\n",
       "    <tr>\n",
       "      <th>4</th>\n",
       "      <td>F1604/1013</td>\n",
       "      <td>Other</td>\n",
       "      <td>Rubbish/Grass/Bush</td>\n",
       "      <td>1604.0</td>\n",
       "      <td>2016-04-17</td>\n",
       "      <td>11:08|11:09|11:09|11:09</td>\n",
       "      <td>13|Direct 107\"|Direct \"107\" call|D\"</td>\n",
       "      <td>Vegetation Alight</td>\n",
       "      <td>KLIPFONTEIN MISSION STATION</td>\n",
       "      <td></td>\n",
       "      <td>...</td>\n",
       "      <td></td>\n",
       "      <td></td>\n",
       "      <td></td>\n",
       "      <td></td>\n",
       "      <td></td>\n",
       "      <td></td>\n",
       "      <td></td>\n",
       "      <td></td>\n",
       "      <td></td>\n",
       "      <td>1.524400e+09</td>\n",
       "    </tr>\n",
       "  </tbody>\n",
       "</table>\n",
       "<p>5 rows × 135 columns</p>\n",
       "</div>"
      ],
      "text/plain": [
       "   Incident number  Incident category  Incident sub-category  \\\n",
       "0       F1604/0100              Other     Rubbish/Grass/Bush   \n",
       "1       F1604/1003              Other          Miscellaneous   \n",
       "2       F1604/1007              Other          Miscellaneous   \n",
       "3       F1604/1008              Other     Rubbish/Grass/Bush   \n",
       "4       F1604/1013              Other     Rubbish/Grass/Bush   \n",
       "\n",
       "    Year Month (YYMM)  Date of IncidentD       Time of IncidentMT  \\\n",
       "0              1604.0         2016-04-02  18:58|19:00|19:00|19:00   \n",
       "1              1604.0         2016-04-17  03:39|03:41|03:41|03:41   \n",
       "2              1604.0         2016-04-17  06:21|06:22|06:22|06:22   \n",
       "3              1604.0         2016-04-17  06:31|06:32|06:32|06:32   \n",
       "4              1604.0         2016-04-17  11:08|11:09|11:09|11:09   \n",
       "\n",
       "              Method Incident Notified      Callers Statement  \\\n",
       "0      11|Telephone direct|Telephone|T          Smoke Issuing   \n",
       "1      11|Telephone direct|Telephone|T  Electrical Box Alight   \n",
       "2      11|Telephone direct|Telephone|T       Container Alight   \n",
       "3      11|Telephone direct|Telephone|T         Flames Visible   \n",
       "4  13|Direct 107\"|Direct \"107\" call|D\"      Vegetation Alight   \n",
       "\n",
       "                                   Location Complex          ...           \\\n",
       "0                                                            ...            \n",
       "1                           In Front Of Uwc                  ...            \n",
       "2                                                            ...            \n",
       "3  Next To Old Excess Road To N2 Above High                  ...            \n",
       "4               KLIPFONTEIN MISSION STATION                  ...            \n",
       "\n",
       "  Released Unit of Measure Suspected contamination Container use   \\\n",
       "0                     None                    None           None   \n",
       "1                                                                   \n",
       "2                                                                   \n",
       "3                                                                   \n",
       "4                                                                   \n",
       "\n",
       "  Special container features Container Type Container material  \\\n",
       "0                       None           None               None   \n",
       "1                                                                \n",
       "2                                                                \n",
       "3                                                                \n",
       "4                                                                \n",
       "\n",
       "  Container capacity Container Unit of measure  Transport Type  \\\n",
       "0               None                       None           None   \n",
       "1                                                                \n",
       "2                                                                \n",
       "3                                                                \n",
       "4                                                                \n",
       "\n",
       "  NESD update control   \n",
       "0                  NaN  \n",
       "1         1.524125e+09  \n",
       "2         1.524522e+09  \n",
       "3         1.524501e+09  \n",
       "4         1.524400e+09  \n",
       "\n",
       "[5 rows x 135 columns]"
      ]
     },
     "execution_count": 162,
     "metadata": {},
     "output_type": "execute_result"
    }
   ],
   "source": [
    "pd.DataFrame(data['Vegetation'][1:],columns=data['Vegetation'][0]).head(5)"
   ]
  },
  {
   "cell_type": "code",
   "execution_count": 128,
   "metadata": {},
   "outputs": [
    {
     "name": "stderr",
     "output_type": "stream",
     "text": [
      "C:\\ProgramData\\Anaconda3\\lib\\site-packages\\ipykernel_launcher.py:4: FutureWarning: Sorting because non-concatenation axis is not aligned. A future version\n",
      "of pandas will change to not sort by default.\n",
      "\n",
      "To accept the future behavior, pass 'sort=False'.\n",
      "\n",
      "To retain the current behavior and silence the warning, pass 'sort=True'.\n",
      "\n",
      "  after removing the cwd from sys.path.\n"
     ]
    }
   ],
   "source": [
    "data_merged = pd.DataFrame()\n",
    "for i in data.keys():\n",
    "    try:\n",
    "        data_merged = pd.concat([data_merged,pd.DataFrame(data[i],columns=data[i][0])],axis = 0,ignore_index=True)\n",
    "    except:\n",
    "        pass"
   ]
  },
  {
   "cell_type": "code",
   "execution_count": 129,
   "metadata": {},
   "outputs": [
    {
     "data": {
      "text/plain": [
       "(1711, 135)"
      ]
     },
     "execution_count": 129,
     "metadata": {},
     "output_type": "execute_result"
    }
   ],
   "source": [
    "data_merged.shape"
   ]
  },
  {
   "cell_type": "code",
   "execution_count": 159,
   "metadata": {},
   "outputs": [
    {
     "data": {
      "text/plain": [
       "<matplotlib.axes._subplots.AxesSubplot at 0x255edbf86d8>"
      ]
     },
     "execution_count": 159,
     "metadata": {},
     "output_type": "execute_result"
    },
    {
     "data": {
      "image/png": "[encoded data removed]",
      "text/plain": [
       "<Figure size 432x288 with 1 Axes>"
      ]
     },
     "metadata": {},
     "output_type": "display_data"
    }
   ],
   "source": [
    "data_merged.columns = data_merged.columns.str.strip()\n",
    "data_merged['Incident category'].value_counts().plot(kind='bar')"
   ]
  },
  {
   "cell_type": "code",
   "execution_count": 156,
   "metadata": {},
   "outputs": [],
   "source": [
    "data_merged.columns = data_merged.columns.str.strip()"
   ]
  },
  {
   "cell_type": "code",
   "execution_count": 161,
   "metadata": {},
   "outputs": [
    {
     "data": {
      "text/plain": [
       "<matplotlib.axes._subplots.AxesSubplot at 0x255edb3ddd8>"
      ]
     },
     "execution_count": 161,
     "metadata": {},
     "output_type": "execute_result"
    },
    {
     "data": {
      "image/png": "[encoded data removed]",
      "text/plain": [
       "<Figure size 432x288 with 1 Axes>"
      ]
     },
     "metadata": {},
     "output_type": "display_data"
    }
   ],
   "source": [
    "data_merged['Incident sub-category'].value_counts().plot(kind='bar')"
   ]
  },
  {
   "cell_type": "code",
   "execution_count": null,
   "metadata": {},
   "outputs": [],
   "source": []
  }
 ],
 "metadata": {
  "kernelspec": {
   "display_name": "Python 3",
   "language": "python",
   "name": "python3"
  },
  "language_info": {
   "codemirror_mode": {
    "name": "ipython",
    "version": 3
   },
   "file_extension": ".py",
   "mimetype": "text/x-python",
   "name": "python",
   "nbconvert_exporter": "python",
   "pygments_lexer": "ipython3",
   "version": "3.6.6"
  }
 },
 "nbformat": 4,
 "nbformat_minor": 2
}
